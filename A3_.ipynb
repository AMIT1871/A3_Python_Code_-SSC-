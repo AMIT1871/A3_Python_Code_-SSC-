{
 "cells": [
  {
   "cell_type": "code",
   "execution_count": 1,
   "id": "ba1dc6fc",
   "metadata": {},
   "outputs": [
    {
     "name": "stdout",
     "output_type": "stream",
     "text": [
      "amit kushwaha\n"
     ]
    }
   ],
   "source": [
    "print(\"amit kushwaha\")"
   ]
  },
  {
   "cell_type": "code",
   "execution_count": 4,
   "id": "41731d97",
   "metadata": {},
   "outputs": [
    {
     "name": "stdout",
     "output_type": "stream",
     "text": [
      "amit \n",
      " kushwaha\n"
     ]
    }
   ],
   "source": [
    "print(\"amit \\n kushwaha\") "
   ]
  },
  {
   "cell_type": "code",
   "execution_count": 5,
   "id": "d702ec2b",
   "metadata": {},
   "outputs": [
    {
     "name": "stdout",
     "output_type": "stream",
     "text": [
      "10\n",
      "<class 'int'>\n",
      "1551223816720\n"
     ]
    }
   ],
   "source": [
    "\n",
    "a=10\n",
    "print(a) #value\n",
    "print(type(a))\n",
    "print(id(a))"
   ]
  },
  {
   "cell_type": "code",
   "execution_count": 6,
   "id": "4c06b246",
   "metadata": {},
   "outputs": [
    {
     "name": "stdout",
     "output_type": "stream",
     "text": [
      "1551223816720\n",
      "1551223816720\n"
     ]
    }
   ],
   "source": [
    "b=10\n",
    "print(id(a))\n",
    "print(id(b))"
   ]
  },
  {
   "cell_type": "code",
   "execution_count": null,
   "id": "f9b1ad33",
   "metadata": {},
   "outputs": [],
   "source": []
  },
  {
   "cell_type": "markdown",
   "id": "e2d4ed32",
   "metadata": {},
   "source": []
  },
  {
   "cell_type": "code",
   "execution_count": 9,
   "id": "ccd1e6fe",
   "metadata": {},
   "outputs": [
    {
     "name": "stdout",
     "output_type": "stream",
     "text": [
      "1551223816752\n"
     ]
    }
   ],
   "source": [
    "a=11\n",
    "print(id(a))  #inmutable #mutable"
   ]
  },
  {
   "cell_type": "markdown",
   "id": "bc1fc8ce",
   "metadata": {},
   "source": [
    " "
   ]
  },
  {
   "cell_type": "code",
   "execution_count": 1,
   "id": "6317d253",
   "metadata": {},
   "outputs": [
    {
     "name": "stdout",
     "output_type": "stream",
     "text": [
      "amit kumar\n"
     ]
    }
   ],
   "source": [
    "print(\"amit kumar\")"
   ]
  },
  {
   "cell_type": "code",
   "execution_count": 5,
   "id": "95f46877",
   "metadata": {},
   "outputs": [
    {
     "data": {
      "text/plain": [
       "58"
      ]
     },
     "execution_count": 5,
     "metadata": {},
     "output_type": "execute_result"
    }
   ],
   "source": [
    "int(58.09)"
   ]
  },
  {
   "cell_type": "code",
   "execution_count": null,
   "id": "e49370c3",
   "metadata": {},
   "outputs": [],
   "source": [
    "print(\"amit\")"
   ]
  },
  {
   "cell_type": "code",
   "execution_count": 1,
   "id": "e7e15275",
   "metadata": {},
   "outputs": [],
   "source": []
  }
 ],
 "metadata": {
  "kernelspec": {
   "display_name": "Python 3.10.8 64-bit",
   "language": "python",
   "name": "python3"
  },
  "language_info": {
   "codemirror_mode": {
    "name": "ipython",
    "version": 3
   },
   "file_extension": ".py",
   "mimetype": "text/x-python",
   "name": "python",
   "nbconvert_exporter": "python",
   "pygments_lexer": "ipython3",
   "version": "3.10.8"
  },
  "vscode": {
   "interpreter": {
    "hash": "c19fa61d258bb2b35aae2ada233c33e2817c1ce895aa48acba720c6bf7cbe3cb"
   }
  }
 },
 "nbformat": 4,
 "nbformat_minor": 5
}
