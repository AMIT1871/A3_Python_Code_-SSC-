{
 "cells": [
  {
   "cell_type": "code",
   "execution_count": 1,
   "id": "256c9206",
   "metadata": {},
   "outputs": [
    {
     "name": "stdout",
     "output_type": "stream",
     "text": [
      "name: amit age: 20\n"
     ]
    }
   ],
   "source": [
    "a =10\n",
    "b= 20\n",
    "name = \"amit\"\n",
    "print(\"name:\",name,\"age:\",b)"
   ]
  },
  {
   "cell_type": "code",
   "execution_count": 2,
   "id": "31929a64",
   "metadata": {},
   "outputs": [
    {
     "name": "stdout",
     "output_type": "stream",
     "text": [
      "<class 'bool'>\n",
      "<class 'int'>\n",
      "<class 'float'>\n",
      "<class 'str'>\n"
     ]
    }
   ],
   "source": [
    "a = True\n",
    "b = 10\n",
    "c = 20.6\n",
    "d = \"abc\"\n",
    "print(type(a))\n",
    "print(type(b))\n",
    "print(type(c))\n",
    "print(type(d))"
   ]
  },
  {
   "cell_type": "code",
   "execution_count": 3,
   "id": "b7af0533",
   "metadata": {},
   "outputs": [
    {
     "data": {
      "text/plain": [
       "['False',\n",
       " 'None',\n",
       " 'True',\n",
       " 'and',\n",
       " 'as',\n",
       " 'assert',\n",
       " 'async',\n",
       " 'await',\n",
       " 'break',\n",
       " 'class',\n",
       " 'continue',\n",
       " 'def',\n",
       " 'del',\n",
       " 'elif',\n",
       " 'else',\n",
       " 'except',\n",
       " 'finally',\n",
       " 'for',\n",
       " 'from',\n",
       " 'global',\n",
       " 'if',\n",
       " 'import',\n",
       " 'in',\n",
       " 'is',\n",
       " 'lambda',\n",
       " 'nonlocal',\n",
       " 'not',\n",
       " 'or',\n",
       " 'pass',\n",
       " 'raise',\n",
       " 'return',\n",
       " 'try',\n",
       " 'while',\n",
       " 'with',\n",
       " 'yield']"
      ]
     },
     "execution_count": 3,
     "metadata": {},
     "output_type": "execute_result"
    }
   ],
   "source": [
    "import keyword\n",
    "keyword.kwlist"
   ]
  },
  {
   "cell_type": "code",
   "execution_count": 4,
   "id": "1161c09d",
   "metadata": {},
   "outputs": [
    {
     "name": "stdout",
     "output_type": "stream",
     "text": [
      "<class 'int'>\n",
      "2348981682704\n",
      "10\n"
     ]
    }
   ],
   "source": [
    "e = 10\n",
    "print(type(e))\n",
    "print(id(e))\n",
    "print((e))"
   ]
  },
  {
   "cell_type": "code",
   "execution_count": 5,
   "id": "1b9b6d46",
   "metadata": {},
   "outputs": [
    {
     "name": "stdout",
     "output_type": "stream",
     "text": [
      "10\n",
      "5\n",
      "83\n",
      "64206\n"
     ]
    }
   ],
   "source": [
    "e = 10  #decimal\n",
    "f = 0b101 #binary\n",
    "g = 0o123 # octal\n",
    "h = 0xfACE   # hexadecimal\n",
    "\n",
    "print(e)\n",
    "print(f)\n",
    "print(g)\n",
    "print(h)\n"
   ]
  },
  {
   "cell_type": "code",
   "execution_count": 6,
   "id": "b7d42e0b",
   "metadata": {},
   "outputs": [
    {
     "data": {
      "text/plain": [
       "'0b1111'"
      ]
     },
     "execution_count": 6,
     "metadata": {},
     "output_type": "execute_result"
    }
   ],
   "source": [
    "bin(15)"
   ]
  },
  {
   "cell_type": "code",
   "execution_count": 7,
   "id": "fa6daca1",
   "metadata": {},
   "outputs": [
    {
     "data": {
      "text/plain": [
       "'0b1010011'"
      ]
     },
     "execution_count": 7,
     "metadata": {},
     "output_type": "execute_result"
    }
   ],
   "source": [
    "bin(0o123)"
   ]
  },
  {
   "cell_type": "code",
   "execution_count": 8,
   "id": "cb8f2245",
   "metadata": {},
   "outputs": [
    {
     "data": {
      "text/plain": [
       "'0b1111101011001110'"
      ]
     },
     "execution_count": 8,
     "metadata": {},
     "output_type": "execute_result"
    }
   ],
   "source": [
    "bin(0xface)"
   ]
  },
  {
   "cell_type": "code",
   "execution_count": 9,
   "id": "efde0b2e",
   "metadata": {},
   "outputs": [
    {
     "ename": "TypeError",
     "evalue": "'float' object cannot be interpreted as an integer",
     "output_type": "error",
     "traceback": [
      "\u001b[1;31m---------------------------------------------------------------------------\u001b[0m",
      "\u001b[1;31mTypeError\u001b[0m                                 Traceback (most recent call last)",
      "Cell \u001b[1;32mIn [9], line 1\u001b[0m\n\u001b[1;32m----> 1\u001b[0m \u001b[39mbin\u001b[39;49m(\u001b[39m15.5\u001b[39;49m)\n",
      "\u001b[1;31mTypeError\u001b[0m: 'float' object cannot be interpreted as an integer"
     ]
    }
   ],
   "source": [
    "bin(15.5)"
   ]
  },
  {
   "cell_type": "code",
   "execution_count": null,
   "id": "f5c9dcd1",
   "metadata": {},
   "outputs": [
    {
     "name": "stdout",
     "output_type": "stream",
     "text": [
      "0o12\n",
      "0o17\n",
      "0o443\n"
     ]
    }
   ],
   "source": [
    "print(oct(10))\n",
    "print(oct(0b1111))\n",
    "print(oct(0x123))"
   ]
  },
  {
   "cell_type": "code",
   "execution_count": null,
   "id": "5d569732",
   "metadata": {},
   "outputs": [
    {
     "name": "stdout",
     "output_type": "stream",
     "text": [
      "0x64\n",
      "0x3f\n",
      "0x14e5\n"
     ]
    }
   ],
   "source": [
    "print(hex(100))\n",
    "print(hex(0b111111))\n",
    "print(hex(0o12345))"
   ]
  },
  {
   "cell_type": "code",
   "execution_count": null,
   "id": "11795e80",
   "metadata": {},
   "outputs": [
    {
     "name": "stdout",
     "output_type": "stream",
     "text": [
      "1200.0\n"
     ]
    }
   ],
   "source": [
    "f = 1.2e3\n",
    "print(f)  #12000.0"
   ]
  },
  {
   "cell_type": "code",
   "execution_count": null,
   "id": "ee638900",
   "metadata": {},
   "outputs": [
    {
     "name": "stdout",
     "output_type": "stream",
     "text": [
      "1.234\n"
     ]
    }
   ],
   "source": [
    "f = 1.234\n",
    "print(f)"
   ]
  },
  {
   "cell_type": "code",
   "execution_count": null,
   "id": "0ca7cac3",
   "metadata": {},
   "outputs": [
    {
     "name": "stdout",
     "output_type": "stream",
     "text": [
      "(30+4j)\n"
     ]
    },
    {
     "ename": "NameError",
     "evalue": "name 'pyte' is not defined",
     "output_type": "error",
     "traceback": [
      "\u001b[1;31m---------------------------------------------------------------------------\u001b[0m",
      "\u001b[1;31mNameError\u001b[0m                                 Traceback (most recent call last)",
      "Cell \u001b[1;32mIn [26], line 5\u001b[0m\n\u001b[0;32m      3\u001b[0m c \u001b[38;5;241m=\u001b[39m a\u001b[38;5;241m+\u001b[39mb\n\u001b[0;32m      4\u001b[0m \u001b[38;5;28mprint\u001b[39m(c)\n\u001b[1;32m----> 5\u001b[0m \u001b[43mpyte\u001b[49m(c)\n",
      "\u001b[1;31mNameError\u001b[0m: name 'pyte' is not defined"
     ]
    }
   ],
   "source": [
    " a= 10 + 1.5j\n",
    " b= 20 + 2.5j\n",
    "c = a+b\n",
    "print(c)\n",
    "pyte(c)"
   ]
  },
  {
   "cell_type": "code",
   "execution_count": null,
   "id": "25431761",
   "metadata": {},
   "outputs": [
    {
     "data": {
      "text/plain": [
       "2"
      ]
     },
     "execution_count": 29,
     "metadata": {},
     "output_type": "execute_result"
    }
   ],
   "source": [
    "True + True\n"
   ]
  },
  {
   "cell_type": "code",
   "execution_count": null,
   "id": "62777a09",
   "metadata": {},
   "outputs": [
    {
     "data": {
      "text/plain": [
       "1"
      ]
     },
     "execution_count": 30,
     "metadata": {},
     "output_type": "execute_result"
    }
   ],
   "source": [
    "True - False"
   ]
  },
  {
   "cell_type": "code",
   "execution_count": null,
   "id": "4ab36352",
   "metadata": {},
   "outputs": [],
   "source": [
    "a = 'python'"
   ]
  },
  {
   "cell_type": "code",
   "execution_count": null,
   "id": "5427d071",
   "metadata": {},
   "outputs": [],
   "source": [
    "a = \"python\""
   ]
  },
  {
   "cell_type": "code",
   "execution_count": null,
   "id": "c0bc03e0",
   "metadata": {},
   "outputs": [],
   "source": [
    "a = '''python'''"
   ]
  },
  {
   "cell_type": "code",
   "execution_count": null,
   "id": "9fb6eb3f",
   "metadata": {},
   "outputs": [
    {
     "name": "stdout",
     "output_type": "stream",
     "text": [
      "this\"Python class very helpful\"for jav astdent\n"
     ]
    }
   ],
   "source": [
    "print('''this\"Python class very helpful\"for jav astdent''')"
   ]
  },
  {
   "cell_type": "code",
   "execution_count": null,
   "id": "272e84a1",
   "metadata": {},
   "outputs": [
    {
     "data": {
      "text/plain": [
       "'a'"
      ]
     },
     "execution_count": 36,
     "metadata": {},
     "output_type": "execute_result"
    }
   ],
   "source": [
    "a = \"amit\"\n",
    "a[0]"
   ]
  },
  {
   "cell_type": "code",
   "execution_count": null,
   "id": "f590dac2",
   "metadata": {},
   "outputs": [
    {
     "data": {
      "text/plain": [
       "'a'"
      ]
     },
     "execution_count": 38,
     "metadata": {},
     "output_type": "execute_result"
    }
   ],
   "source": [
    "a[-4]"
   ]
  },
  {
   "cell_type": "code",
   "execution_count": null,
   "id": "3b625850",
   "metadata": {},
   "outputs": [
    {
     "data": {
      "text/plain": [
       "'amitamitamit'"
      ]
     },
     "execution_count": 39,
     "metadata": {},
     "output_type": "execute_result"
    }
   ],
   "source": [
    "a*3"
   ]
  },
  {
   "cell_type": "code",
   "execution_count": null,
   "id": "0f68d02b",
   "metadata": {},
   "outputs": [
    {
     "data": {
      "text/plain": [
       "'mit'"
      ]
     },
     "execution_count": 41,
     "metadata": {},
     "output_type": "execute_result"
    }
   ],
   "source": [
    "a[1:40]"
   ]
  },
  {
   "cell_type": "code",
   "execution_count": null,
   "id": "7cc0bd59",
   "metadata": {},
   "outputs": [
    {
     "data": {
      "text/plain": [
       "'mit'"
      ]
     },
     "execution_count": 42,
     "metadata": {},
     "output_type": "execute_result"
    }
   ],
   "source": [
    "a[1:]"
   ]
  },
  {
   "cell_type": "code",
   "execution_count": null,
   "id": "b655ee54",
   "metadata": {},
   "outputs": [
    {
     "data": {
      "text/plain": [
       "'amit'"
      ]
     },
     "execution_count": 43,
     "metadata": {},
     "output_type": "execute_result"
    }
   ],
   "source": [
    "a[:4]"
   ]
  },
  {
   "cell_type": "code",
   "execution_count": null,
   "id": "c7ef1ce5",
   "metadata": {},
   "outputs": [
    {
     "data": {
      "text/plain": [
       "'amit'"
      ]
     },
     "execution_count": 44,
     "metadata": {},
     "output_type": "execute_result"
    }
   ],
   "source": [
    "a[:]"
   ]
  },
  {
   "cell_type": "code",
   "execution_count": null,
   "id": "2f792c02",
   "metadata": {},
   "outputs": [
    {
     "data": {
      "text/plain": [
       "4"
      ]
     },
     "execution_count": 45,
     "metadata": {},
     "output_type": "execute_result"
    }
   ],
   "source": [
    "len(a)"
   ]
  },
  {
   "cell_type": "code",
   "execution_count": null,
   "id": "31ee3e7c",
   "metadata": {},
   "outputs": [
    {
     "data": {
      "text/plain": [
       "10"
      ]
     },
     "execution_count": 46,
     "metadata": {},
     "output_type": "execute_result"
    }
   ],
   "source": [
    "int(10.0)"
   ]
  },
  {
   "cell_type": "code",
   "execution_count": null,
   "id": "30f833c0",
   "metadata": {},
   "outputs": [
    {
     "ename": "TypeError",
     "evalue": "int() argument must be a string, a bytes-like object or a real number, not 'complex'",
     "output_type": "error",
     "traceback": [
      "\u001b[1;31m---------------------------------------------------------------------------\u001b[0m",
      "\u001b[1;31mTypeError\u001b[0m                                 Traceback (most recent call last)",
      "Cell \u001b[1;32mIn [47], line 1\u001b[0m\n\u001b[1;32m----> 1\u001b[0m \u001b[38;5;28;43mint\u001b[39;49m\u001b[43m(\u001b[49m\u001b[38;5;241;43m10\u001b[39;49m\u001b[38;5;241;43m+\u001b[39;49m\u001b[38;5;241;43m5\u001b[39;49m\u001b[43mj\u001b[49m\u001b[43m)\u001b[49m\n",
      "\u001b[1;31mTypeError\u001b[0m: int() argument must be a string, a bytes-like object or a real number, not 'complex'"
     ]
    }
   ],
   "source": [
    "int(10+5j)"
   ]
  },
  {
   "cell_type": "code",
   "execution_count": null,
   "id": "b04a63c4",
   "metadata": {},
   "outputs": [
    {
     "data": {
      "text/plain": [
       "1"
      ]
     },
     "execution_count": 48,
     "metadata": {},
     "output_type": "execute_result"
    }
   ],
   "source": [
    "int(True)"
   ]
  },
  {
   "cell_type": "code",
   "execution_count": null,
   "id": "cb2e35d2",
   "metadata": {},
   "outputs": [
    {
     "data": {
      "text/plain": [
       "0"
      ]
     },
     "execution_count": 50,
     "metadata": {},
     "output_type": "execute_result"
    }
   ],
   "source": [
    "int(False)"
   ]
  },
  {
   "cell_type": "code",
   "execution_count": null,
   "id": "44465690",
   "metadata": {},
   "outputs": [
    {
     "data": {
      "text/plain": [
       "10"
      ]
     },
     "execution_count": 52,
     "metadata": {},
     "output_type": "execute_result"
    }
   ],
   "source": [
    "int(\"10\")"
   ]
  },
  {
   "cell_type": "code",
   "execution_count": null,
   "id": "452afacd",
   "metadata": {},
   "outputs": [
    {
     "ename": "ValueError",
     "evalue": "invalid literal for int() with base 10: '10.6'",
     "output_type": "error",
     "traceback": [
      "\u001b[1;31m---------------------------------------------------------------------------\u001b[0m",
      "\u001b[1;31mValueError\u001b[0m                                Traceback (most recent call last)",
      "Cell \u001b[1;32mIn [53], line 1\u001b[0m\n\u001b[1;32m----> 1\u001b[0m \u001b[38;5;28;43mint\u001b[39;49m\u001b[43m(\u001b[49m\u001b[38;5;124;43m\"\u001b[39;49m\u001b[38;5;124;43m10.6\u001b[39;49m\u001b[38;5;124;43m\"\u001b[39;49m\u001b[43m)\u001b[49m\n",
      "\u001b[1;31mValueError\u001b[0m: invalid literal for int() with base 10: '10.6'"
     ]
    }
   ],
   "source": [
    "int(\"10.6\")"
   ]
  },
  {
   "cell_type": "code",
   "execution_count": null,
   "id": "e560c352",
   "metadata": {},
   "outputs": [
    {
     "data": {
      "text/plain": [
       "10.0"
      ]
     },
     "execution_count": 54,
     "metadata": {},
     "output_type": "execute_result"
    }
   ],
   "source": [
    "float(10)"
   ]
  },
  {
   "cell_type": "code",
   "execution_count": null,
   "id": "224b9539",
   "metadata": {},
   "outputs": [
    {
     "data": {
      "text/plain": [
       "1.0"
      ]
     },
     "execution_count": 55,
     "metadata": {},
     "output_type": "execute_result"
    }
   ],
   "source": [
    "float(True)"
   ]
  },
  {
   "cell_type": "code",
   "execution_count": null,
   "id": "1c0675e5",
   "metadata": {},
   "outputs": [
    {
     "data": {
      "text/plain": [
       "0.0"
      ]
     },
     "execution_count": 56,
     "metadata": {},
     "output_type": "execute_result"
    }
   ],
   "source": [
    "float(False)"
   ]
  },
  {
   "cell_type": "code",
   "execution_count": null,
   "id": "41b1b79c",
   "metadata": {},
   "outputs": [
    {
     "data": {
      "text/plain": [
       "10.0"
      ]
     },
     "execution_count": 57,
     "metadata": {},
     "output_type": "execute_result"
    }
   ],
   "source": [
    "float(\"10\")"
   ]
  },
  {
   "cell_type": "code",
   "execution_count": null,
   "id": "c1f32441",
   "metadata": {},
   "outputs": [
    {
     "data": {
      "text/plain": [
       "10.6"
      ]
     },
     "execution_count": 58,
     "metadata": {},
     "output_type": "execute_result"
    }
   ],
   "source": [
    "float(\"10.6\")"
   ]
  },
  {
   "cell_type": "code",
   "execution_count": null,
   "id": "43ad85a1",
   "metadata": {},
   "outputs": [
    {
     "ename": "ValueError",
     "evalue": "could not convert string to float: 'ten'",
     "output_type": "error",
     "traceback": [
      "\u001b[1;31m---------------------------------------------------------------------------\u001b[0m",
      "\u001b[1;31mValueError\u001b[0m                                Traceback (most recent call last)",
      "Cell \u001b[1;32mIn [59], line 1\u001b[0m\n\u001b[1;32m----> 1\u001b[0m \u001b[38;5;28;43mfloat\u001b[39;49m\u001b[43m(\u001b[49m\u001b[38;5;124;43m\"\u001b[39;49m\u001b[38;5;124;43mten\u001b[39;49m\u001b[38;5;124;43m\"\u001b[39;49m\u001b[43m)\u001b[49m\n",
      "\u001b[1;31mValueError\u001b[0m: could not convert string to float: 'ten'"
     ]
    }
   ],
   "source": [
    "float(\"ten\")"
   ]
  },
  {
   "cell_type": "code",
   "execution_count": null,
   "id": "7182e8f8",
   "metadata": {},
   "outputs": [
    {
     "ename": "ValueError",
     "evalue": "could not convert string to float: '0b1111'",
     "output_type": "error",
     "traceback": [
      "\u001b[1;31m---------------------------------------------------------------------------\u001b[0m",
      "\u001b[1;31mValueError\u001b[0m                                Traceback (most recent call last)",
      "Cell \u001b[1;32mIn [60], line 1\u001b[0m\n\u001b[1;32m----> 1\u001b[0m \u001b[38;5;28;43mfloat\u001b[39;49m\u001b[43m(\u001b[49m\u001b[38;5;124;43m\"\u001b[39;49m\u001b[38;5;124;43m0b1111\u001b[39;49m\u001b[38;5;124;43m\"\u001b[39;49m\u001b[43m)\u001b[49m\n",
      "\u001b[1;31mValueError\u001b[0m: could not convert string to float: '0b1111'"
     ]
    }
   ],
   "source": [
    "float(\"0b1111\")"
   ]
  },
  {
   "cell_type": "code",
   "execution_count": null,
   "id": "f32af22d",
   "metadata": {},
   "outputs": [
    {
     "data": {
      "text/plain": [
       "1590669476208"
      ]
     },
     "execution_count": 61,
     "metadata": {},
     "output_type": "execute_result"
    }
   ],
   "source": [
    "a = 5\n",
    "id(a)"
   ]
  },
  {
   "cell_type": "code",
   "execution_count": null,
   "id": "9aed32cd",
   "metadata": {},
   "outputs": [
    {
     "data": {
      "text/plain": [
       "1590669477616"
      ]
     },
     "execution_count": 62,
     "metadata": {},
     "output_type": "execute_result"
    }
   ],
   "source": [
    "a =49\n",
    "id(a)"
   ]
  },
  {
   "cell_type": "code",
   "execution_count": null,
   "id": "1bc4d2a2",
   "metadata": {},
   "outputs": [],
   "source": []
  }
 ],
 "metadata": {
  "kernelspec": {
   "display_name": "Python 3.10.8 64-bit",
   "language": "python",
   "name": "python3"
  },
  "language_info": {
   "codemirror_mode": {
    "name": "ipython",
    "version": 3
   },
   "file_extension": ".py",
   "mimetype": "text/x-python",
   "name": "python",
   "nbconvert_exporter": "python",
   "pygments_lexer": "ipython3",
   "version": "3.10.8"
  },
  "vscode": {
   "interpreter": {
    "hash": "c19fa61d258bb2b35aae2ada233c33e2817c1ce895aa48acba720c6bf7cbe3cb"
   }
  }
 },
 "nbformat": 4,
 "nbformat_minor": 5
}
